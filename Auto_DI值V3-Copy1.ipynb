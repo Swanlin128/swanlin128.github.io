{
 "cells": [
  {
   "cell_type": "markdown",
   "metadata": {},
   "source": [
    "## 爬取数据：\n",
    "### 从UWAY上获取最新的对应发布版本query_list issue.csv"
   ]
  },
  {
   "cell_type": "code",
   "execution_count": 20,
   "metadata": {},
   "outputs": [
    {
     "name": "stdout",
     "output_type": "stream",
     "text": [
      "[INFO] started...\n",
      "[INFO] 成功获取到token：gKN5nuVqGJm2er3mh5pD1gJCHyG1o4seGZp+HSC3HE3yOhHKZqPar6HKw0vwGkrSpKnvjA/rL2TRrzixy2mIDw==\n",
      "[INFO] 开始登陆...\n",
      "[INFO] 登陆OK\n",
      "[INFO] CSV 获取成功! file=issues_2020-12-08_15-25-40-642662.csv\n",
      "[INFO] 开始处理csv文件...\n"
     ]
    }
   ],
   "source": [
    "# import requests\n",
    "import re\n",
    "import datetime\n",
    "import pandas as pd\n",
    "import glob\n",
    "import os\n",
    "import sys\n",
    "import matplotlib.pyplot as plt\n",
    "import requests\n",
    "import numpy as np\n",
    "\n",
    "# 头部信息\n",
    "headers = {\n",
    " 'Host':\"uway.youedata.com\",\n",
    " 'Accept-Language':\"zh-CN,zh;q=0.8\",\n",
    " 'Accept-Encoding':\"gzip, deflate\",\n",
    " 'Content-Type':\"application/x-www-form-urlencoded\",\n",
    " 'Connection':\"keep-alive\",\n",
    " 'Referer':\"http://uway.youedata.com/uway/login\",\n",
    " 'User-Agent':\"Mozilla/5.0 (Windows NT 10.0; WOW64) AppleWebKit/537.36 (KHTML, like Gecko) Chrome/46.0.2490.86 Safari/537.36\"\n",
    "}\n",
    "\n",
    "print(\"[INFO] started...\")\n",
    "#login url\n",
    "url = 'http://uway.youedata.com/uway/login'\n",
    "#启用session，保存会话上下文\n",
    "r_session = requests.Session()\n",
    "#初次访问，获取网页内容\n",
    "page = r_session.get(url)\n",
    "#print(page.text)\n",
    "\n",
    "#根据正则，获取auth——token，用于登录时，传入\n",
    "reg = r'<meta name=\"csrf-token\" content=\"(.+)\" />'\n",
    "csrf = re.findall(reg,page.text)[0]\n",
    "print(\"[INFO] 成功获取到token：\"+csrf)\n",
    "\n",
    "#form data，可以从chrome控制台得到，登陆时需要的form data\n",
    "data = {\n",
    " \"authenticity_token\" : csrf,\n",
    " \"username\": \"lilin\",\n",
    " \"password\": \"pas@123a\"\n",
    " }\n",
    "print(\"[INFO] 开始登陆...\")\n",
    "#登陆post action\n",
    "response = r_session.post(url, data=data, headers=headers)\n",
    "print(\"[INFO] 登陆OK\")\n",
    "\n",
    "#用同样的session，去获取csv 数据\n",
    "res = r_session.get('http://uway.youedata.com/uway/projects/dataos-superba/issues.csv?query_id=99')\n",
    "res.encoding = 'gb2312'\n",
    "\n",
    "result_csv_filename = 'issues_'+datetime.datetime.now().strftime(\"%Y-%m-%d_%H-%M-%S-%f\")+\".csv\"\n",
    "\n",
    "latest_issue = open(result_csv_filename,'a+')\n",
    "latest_issue.write(res.text)\n",
    "latest_issue.close()\n",
    "print(\"[INFO] CSV 获取成功! file=\"+result_csv_filename)\n",
    "\n",
    "print(\"[INFO] 开始处理csv文件...\")"
   ]
  },
  {
   "cell_type": "markdown",
   "metadata": {},
   "source": [
    "## 读取issue.csv"
   ]
  },
  {
   "cell_type": "code",
   "execution_count": 21,
   "metadata": {},
   "outputs": [],
   "source": [
    "#读取csv文件\n",
    "data_frame = pd.read_csv(result_csv_filename)"
   ]
  },
  {
   "cell_type": "markdown",
   "metadata": {},
   "source": [
    "## 数据清洗-缺失值处理"
   ]
  },
  {
   "cell_type": "code",
   "execution_count": 22,
   "metadata": {},
   "outputs": [],
   "source": [
    "#清洗空值，特别是目标版本,注意，数据清洗不会在当前dataframe，需要保存到新的dataframe\n",
    "data_frame = data_frame.fillna(value='未指定')"
   ]
  },
  {
   "cell_type": "markdown",
   "metadata": {},
   "source": [
    "## 数据筛选-不需要的数据处理，比如某些目标版本的缺陷不需要"
   ]
  },
  {
   "cell_type": "code",
   "execution_count": 23,
   "metadata": {},
   "outputs": [],
   "source": [
    "#python的关键字and和or对布尔值数组并没有用，需要用|和&来代替\n",
    "#为了更加灵活，增添一个不需要的目标版本list\n",
    "tbd_target_version_list = ['雨燕mPaas 1.4.3','雨燕mPaas 1.4.2','雨燕mPaas 1.4.1']\n",
    "for i in tbd_target_version_list:\n",
    "    data_frame = data_frame.loc[(data_frame['目标版本'] != i)]\n",
    "tbd_bug_list = ['【易道169升级】升级169后，dataos后端内存溢出概率大','【文档】文档缺陷']\n",
    "for i in tbd_bug_list:\n",
    "   data_frame = data_frame.loc[(data_frame['主题'] != i)]"
   ]
  },
  {
   "cell_type": "code",
   "execution_count": 24,
   "metadata": {},
   "outputs": [
    {
     "data": {
      "text/html": [
       "<div>\n",
       "<style scoped>\n",
       "    .dataframe tbody tr th:only-of-type {\n",
       "        vertical-align: middle;\n",
       "    }\n",
       "\n",
       "    .dataframe tbody tr th {\n",
       "        vertical-align: top;\n",
       "    }\n",
       "\n",
       "    .dataframe thead th {\n",
       "        text-align: right;\n",
       "    }\n",
       "</style>\n",
       "<table border=\"1\" class=\"dataframe\">\n",
       "  <thead>\n",
       "    <tr style=\"text-align: right;\">\n",
       "      <th></th>\n",
       "      <th>#</th>\n",
       "      <th>跟踪</th>\n",
       "      <th>状态</th>\n",
       "      <th>优先级</th>\n",
       "      <th>主题</th>\n",
       "      <th>项目</th>\n",
       "      <th>处理人</th>\n",
       "      <th>指派给</th>\n",
       "      <th>目标版本</th>\n",
       "      <th>发布版本</th>\n",
       "      <th>作者</th>\n",
       "      <th>创建于</th>\n",
       "    </tr>\n",
       "  </thead>\n",
       "  <tbody>\n",
       "    <tr>\n",
       "      <th>1</th>\n",
       "      <td>31224</td>\n",
       "      <td>缺陷</td>\n",
       "      <td>新建</td>\n",
       "      <td>提示bug</td>\n",
       "      <td>【龙湖】【服务中心】服务页面，服务配置处，主机host，建议修改为主机域名</td>\n",
       "      <td>服务中心（黄欣）</td>\n",
       "      <td>未指定</td>\n",
       "      <td>翟小童</td>\n",
       "      <td>服务中心第二版v1.8.1</td>\n",
       "      <td>V2.0.5</td>\n",
       "      <td>马文龙</td>\n",
       "      <td>2020-12-03 15:03</td>\n",
       "    </tr>\n",
       "    <tr>\n",
       "      <th>2</th>\n",
       "      <td>31218</td>\n",
       "      <td>缺陷</td>\n",
       "      <td>新建</td>\n",
       "      <td>提示bug</td>\n",
       "      <td>【龙湖】【服务中心】编辑服务，缺少提示【主机域名 +端口号】连通性</td>\n",
       "      <td>服务中心（黄欣）</td>\n",
       "      <td>未指定</td>\n",
       "      <td>翟小童</td>\n",
       "      <td>服务中心第二版v1.8.1</td>\n",
       "      <td>V2.0.5</td>\n",
       "      <td>马文龙</td>\n",
       "      <td>2020-12-03 14:48</td>\n",
       "    </tr>\n",
       "    <tr>\n",
       "      <th>3</th>\n",
       "      <td>31215</td>\n",
       "      <td>缺陷</td>\n",
       "      <td>新建</td>\n",
       "      <td>提示bug</td>\n",
       "      <td>【龙湖】【服务中心】新建API页面、api删除，部分api的小写需修改为大写</td>\n",
       "      <td>服务中心（黄欣）</td>\n",
       "      <td>未指定</td>\n",
       "      <td>翟小童</td>\n",
       "      <td>服务中心第二版v1.8.1</td>\n",
       "      <td>V2.0.5</td>\n",
       "      <td>马文龙</td>\n",
       "      <td>2020-12-03 14:33</td>\n",
       "    </tr>\n",
       "    <tr>\n",
       "      <th>4</th>\n",
       "      <td>31211</td>\n",
       "      <td>缺陷</td>\n",
       "      <td>新建</td>\n",
       "      <td>提示bug</td>\n",
       "      <td>【龙湖】【服务中心】服务列表，查询结果为空，页面提示，提示不准确</td>\n",
       "      <td>服务中心（黄欣）</td>\n",
       "      <td>未指定</td>\n",
       "      <td>翟小童</td>\n",
       "      <td>服务中心第二版v1.8.1</td>\n",
       "      <td>V2.0.5</td>\n",
       "      <td>马文龙</td>\n",
       "      <td>2020-12-03 14:24</td>\n",
       "    </tr>\n",
       "    <tr>\n",
       "      <th>5</th>\n",
       "      <td>31209</td>\n",
       "      <td>缺陷</td>\n",
       "      <td>新建</td>\n",
       "      <td>提示bug</td>\n",
       "      <td>【龙湖】【服务中心】服务详情中，关联API处，查询条件提示，API名需改为：API标题</td>\n",
       "      <td>服务中心（黄欣）</td>\n",
       "      <td>未指定</td>\n",
       "      <td>翟小童</td>\n",
       "      <td>服务中心第二版v1.8.1</td>\n",
       "      <td>V2.0.5</td>\n",
       "      <td>马文龙</td>\n",
       "      <td>2020-12-03 14:11</td>\n",
       "    </tr>\n",
       "    <tr>\n",
       "      <th>6</th>\n",
       "      <td>31208</td>\n",
       "      <td>缺陷</td>\n",
       "      <td>新建</td>\n",
       "      <td>提示bug</td>\n",
       "      <td>【龙湖】【服务中心】服务详情中，“说明链接”字段显示为“说明文档”</td>\n",
       "      <td>服务中心（黄欣）</td>\n",
       "      <td>未指定</td>\n",
       "      <td>翟小童</td>\n",
       "      <td>服务中心第二版v1.8.1</td>\n",
       "      <td>V2.0.5</td>\n",
       "      <td>马文龙</td>\n",
       "      <td>2020-12-03 14:08</td>\n",
       "    </tr>\n",
       "    <tr>\n",
       "      <th>7</th>\n",
       "      <td>31205</td>\n",
       "      <td>缺陷</td>\n",
       "      <td>新建</td>\n",
       "      <td>提示bug</td>\n",
       "      <td>【龙湖】【服务中心】重复上传同一大于10M服务说明doc文档时，页面无提示</td>\n",
       "      <td>服务中心（黄欣）</td>\n",
       "      <td>未指定</td>\n",
       "      <td>翟小童</td>\n",
       "      <td>服务中心第二版v1.8.1</td>\n",
       "      <td>V2.0.5</td>\n",
       "      <td>马文龙</td>\n",
       "      <td>2020-12-03 14:02</td>\n",
       "    </tr>\n",
       "  </tbody>\n",
       "</table>\n",
       "</div>"
      ],
      "text/plain": [
       "       #  跟踪  状态    优先级                                           主题  \\\n",
       "1  31224  缺陷  新建  提示bug        【龙湖】【服务中心】服务页面，服务配置处，主机host，建议修改为主机域名   \n",
       "2  31218  缺陷  新建  提示bug            【龙湖】【服务中心】编辑服务，缺少提示【主机域名 +端口号】连通性   \n",
       "3  31215  缺陷  新建  提示bug       【龙湖】【服务中心】新建API页面、api删除，部分api的小写需修改为大写   \n",
       "4  31211  缺陷  新建  提示bug             【龙湖】【服务中心】服务列表，查询结果为空，页面提示，提示不准确   \n",
       "5  31209  缺陷  新建  提示bug  【龙湖】【服务中心】服务详情中，关联API处，查询条件提示，API名需改为：API标题   \n",
       "6  31208  缺陷  新建  提示bug            【龙湖】【服务中心】服务详情中，“说明链接”字段显示为“说明文档”   \n",
       "7  31205  缺陷  新建  提示bug        【龙湖】【服务中心】重复上传同一大于10M服务说明doc文档时，页面无提示   \n",
       "\n",
       "         项目  处理人  指派给           目标版本    发布版本   作者               创建于  \n",
       "1  服务中心（黄欣）  未指定  翟小童  服务中心第二版v1.8.1  V2.0.5  马文龙  2020-12-03 15:03  \n",
       "2  服务中心（黄欣）  未指定  翟小童  服务中心第二版v1.8.1  V2.0.5  马文龙  2020-12-03 14:48  \n",
       "3  服务中心（黄欣）  未指定  翟小童  服务中心第二版v1.8.1  V2.0.5  马文龙  2020-12-03 14:33  \n",
       "4  服务中心（黄欣）  未指定  翟小童  服务中心第二版v1.8.1  V2.0.5  马文龙  2020-12-03 14:24  \n",
       "5  服务中心（黄欣）  未指定  翟小童  服务中心第二版v1.8.1  V2.0.5  马文龙  2020-12-03 14:11  \n",
       "6  服务中心（黄欣）  未指定  翟小童  服务中心第二版v1.8.1  V2.0.5  马文龙  2020-12-03 14:08  \n",
       "7  服务中心（黄欣）  未指定  翟小童  服务中心第二版v1.8.1  V2.0.5  马文龙  2020-12-03 14:02  "
      ]
     },
     "execution_count": 24,
     "metadata": {},
     "output_type": "execute_result"
    }
   ],
   "source": [
    "#列出特定关注的卡\n",
    "res=data_frame[data_frame['主题'].str.contains(\"龙湖\")]\n",
    "#spike_cols =[x for x in data.columns[data.columns.str.contains('bug')]]\n",
    "#spike_cols\n",
    "res"
   ]
  },
  {
   "cell_type": "markdown",
   "metadata": {},
   "source": [
    "## 数据透视表聚合和分组数据"
   ]
  },
  {
   "cell_type": "code",
   "execution_count": 25,
   "metadata": {},
   "outputs": [],
   "source": [
    "data = pd.pivot_table(data_frame,index=['目标版本'],columns=['优先级'],values=['#'],aggfunc=np.count_nonzero,fill_value=0)"
   ]
  },
  {
   "cell_type": "code",
   "execution_count": 26,
   "metadata": {},
   "outputs": [
    {
     "data": {
      "text/html": [
       "<div>\n",
       "<style scoped>\n",
       "    .dataframe tbody tr th:only-of-type {\n",
       "        vertical-align: middle;\n",
       "    }\n",
       "\n",
       "    .dataframe tbody tr th {\n",
       "        vertical-align: top;\n",
       "    }\n",
       "\n",
       "    .dataframe thead tr th {\n",
       "        text-align: left;\n",
       "    }\n",
       "\n",
       "    .dataframe thead tr:last-of-type th {\n",
       "        text-align: right;\n",
       "    }\n",
       "</style>\n",
       "<table border=\"1\" class=\"dataframe\">\n",
       "  <thead>\n",
       "    <tr>\n",
       "      <th></th>\n",
       "      <th colspan=\"3\" halign=\"left\">#</th>\n",
       "    </tr>\n",
       "    <tr>\n",
       "      <th>优先级</th>\n",
       "      <th>一般bug</th>\n",
       "      <th>严重bug</th>\n",
       "      <th>提示bug</th>\n",
       "    </tr>\n",
       "    <tr>\n",
       "      <th>目标版本</th>\n",
       "      <th></th>\n",
       "      <th></th>\n",
       "      <th></th>\n",
       "    </tr>\n",
       "  </thead>\n",
       "  <tbody>\n",
       "    <tr>\n",
       "      <th>2.0.0</th>\n",
       "      <td>1</td>\n",
       "      <td>0</td>\n",
       "      <td>0</td>\n",
       "    </tr>\n",
       "    <tr>\n",
       "      <th>中台桌面V1.6</th>\n",
       "      <td>1</td>\n",
       "      <td>0</td>\n",
       "      <td>0</td>\n",
       "    </tr>\n",
       "    <tr>\n",
       "      <th>安全中心V1.4.3</th>\n",
       "      <td>0</td>\n",
       "      <td>1</td>\n",
       "      <td>0</td>\n",
       "    </tr>\n",
       "    <tr>\n",
       "      <th>服务中心第二版v1.8.1</th>\n",
       "      <td>0</td>\n",
       "      <td>0</td>\n",
       "      <td>7</td>\n",
       "    </tr>\n",
       "    <tr>\n",
       "      <th>未指定</th>\n",
       "      <td>0</td>\n",
       "      <td>0</td>\n",
       "      <td>1</td>\n",
       "    </tr>\n",
       "  </tbody>\n",
       "</table>\n",
       "</div>"
      ],
      "text/plain": [
       "                  #            \n",
       "优先级           一般bug 严重bug 提示bug\n",
       "目标版本                           \n",
       "2.0.0             1     0     0\n",
       "中台桌面V1.6          1     0     0\n",
       "安全中心V1.4.3        0     1     0\n",
       "服务中心第二版v1.8.1     0     0     7\n",
       "未指定               0     0     1"
      ]
     },
     "execution_count": 26,
     "metadata": {},
     "output_type": "execute_result"
    }
   ],
   "source": [
    "data"
   ]
  },
  {
   "cell_type": "markdown",
   "metadata": {},
   "source": [
    "## 数据表重构：重构成需要的表"
   ]
  },
  {
   "cell_type": "markdown",
   "metadata": {},
   "source": [
    "## 拆分tuple元组columns，简化dataframe"
   ]
  },
  {
   "cell_type": "code",
   "execution_count": 27,
   "metadata": {},
   "outputs": [],
   "source": [
    "data = data.pop(\"#\")"
   ]
  },
  {
   "cell_type": "markdown",
   "metadata": {},
   "source": [
    "##  构造要求的Columns "
   ]
  },
  {
   "cell_type": "code",
   "execution_count": 28,
   "metadata": {},
   "outputs": [],
   "source": [
    "column_list = ['致命bug','严重bug','一般bug','提示bug']\n",
    "data = data.reindex(columns = column_list )\n",
    "#把缺失值替换为0.\n",
    "data = data.replace(np.nan, 0)"
   ]
  },
  {
   "cell_type": "markdown",
   "metadata": {},
   "source": [
    "## 数据类型转换到整型，默认是float"
   ]
  },
  {
   "cell_type": "code",
   "execution_count": 29,
   "metadata": {},
   "outputs": [],
   "source": [
    "data = data.astype(int)"
   ]
  },
  {
   "cell_type": "markdown",
   "metadata": {},
   "source": [
    "## 行列求和"
   ]
  },
  {
   "cell_type": "code",
   "execution_count": 30,
   "metadata": {},
   "outputs": [],
   "source": [
    "data.loc['整个DataOS'] = data.apply(lambda x: x.sum())\n",
    "data['全部缺陷'] = data.apply(lambda x: x.sum(), axis=1)"
   ]
  },
  {
   "cell_type": "markdown",
   "metadata": {},
   "source": [
    "## 调整index 整个DataOS到首行"
   ]
  },
  {
   "cell_type": "code",
   "execution_count": 31,
   "metadata": {},
   "outputs": [],
   "source": [
    "#获取默认index列表\n",
    "index = data.index.tolist()\n",
    "\n",
    "#把“整个DataOS”加到列表首位\n",
    "index.insert(0,'整个DataOS')\n",
    "\n",
    "#把原来最末行的“整个DataOS”删除\n",
    "index.pop()\n",
    "\n",
    "#重建行索引index\n",
    "data = data.reindex(index )"
   ]
  },
  {
   "cell_type": "markdown",
   "metadata": {},
   "source": [
    "## 通过lambda函数列运算计算DI值"
   ]
  },
  {
   "cell_type": "code",
   "execution_count": 32,
   "metadata": {},
   "outputs": [
    {
     "data": {
      "text/html": [
       "<div>\n",
       "<style scoped>\n",
       "    .dataframe tbody tr th:only-of-type {\n",
       "        vertical-align: middle;\n",
       "    }\n",
       "\n",
       "    .dataframe tbody tr th {\n",
       "        vertical-align: top;\n",
       "    }\n",
       "\n",
       "    .dataframe thead th {\n",
       "        text-align: right;\n",
       "    }\n",
       "</style>\n",
       "<table border=\"1\" class=\"dataframe\">\n",
       "  <thead>\n",
       "    <tr style=\"text-align: right;\">\n",
       "      <th>优先级</th>\n",
       "      <th>致命bug</th>\n",
       "      <th>严重bug</th>\n",
       "      <th>一般bug</th>\n",
       "      <th>提示bug</th>\n",
       "      <th>全部缺陷</th>\n",
       "      <th>DI值</th>\n",
       "    </tr>\n",
       "    <tr>\n",
       "      <th>目标版本</th>\n",
       "      <th></th>\n",
       "      <th></th>\n",
       "      <th></th>\n",
       "      <th></th>\n",
       "      <th></th>\n",
       "      <th></th>\n",
       "    </tr>\n",
       "  </thead>\n",
       "  <tbody>\n",
       "    <tr>\n",
       "      <th>整个DataOS</th>\n",
       "      <td>0</td>\n",
       "      <td>1</td>\n",
       "      <td>2</td>\n",
       "      <td>8</td>\n",
       "      <td>11</td>\n",
       "      <td>5.8</td>\n",
       "    </tr>\n",
       "    <tr>\n",
       "      <th>2.0.0</th>\n",
       "      <td>0</td>\n",
       "      <td>0</td>\n",
       "      <td>1</td>\n",
       "      <td>0</td>\n",
       "      <td>1</td>\n",
       "      <td>1.0</td>\n",
       "    </tr>\n",
       "    <tr>\n",
       "      <th>中台桌面V1.6</th>\n",
       "      <td>0</td>\n",
       "      <td>0</td>\n",
       "      <td>1</td>\n",
       "      <td>0</td>\n",
       "      <td>1</td>\n",
       "      <td>1.0</td>\n",
       "    </tr>\n",
       "    <tr>\n",
       "      <th>安全中心V1.4.3</th>\n",
       "      <td>0</td>\n",
       "      <td>1</td>\n",
       "      <td>0</td>\n",
       "      <td>0</td>\n",
       "      <td>1</td>\n",
       "      <td>3.0</td>\n",
       "    </tr>\n",
       "    <tr>\n",
       "      <th>服务中心第二版v1.8.1</th>\n",
       "      <td>0</td>\n",
       "      <td>0</td>\n",
       "      <td>0</td>\n",
       "      <td>7</td>\n",
       "      <td>7</td>\n",
       "      <td>0.7</td>\n",
       "    </tr>\n",
       "    <tr>\n",
       "      <th>未指定</th>\n",
       "      <td>0</td>\n",
       "      <td>0</td>\n",
       "      <td>0</td>\n",
       "      <td>1</td>\n",
       "      <td>1</td>\n",
       "      <td>0.1</td>\n",
       "    </tr>\n",
       "  </tbody>\n",
       "</table>\n",
       "</div>"
      ],
      "text/plain": [
       "优先级            致命bug  严重bug  一般bug  提示bug  全部缺陷  DI值\n",
       "目标版本                                                \n",
       "整个DataOS           0      1      2      8    11  5.8\n",
       "2.0.0              0      0      1      0     1  1.0\n",
       "中台桌面V1.6           0      0      1      0     1  1.0\n",
       "安全中心V1.4.3         0      1      0      0     1  3.0\n",
       "服务中心第二版v1.8.1      0      0      0      7     7  0.7\n",
       "未指定                0      0      0      1     1  0.1"
      ]
     },
     "execution_count": 32,
     "metadata": {},
     "output_type": "execute_result"
    }
   ],
   "source": [
    "#data_frame['DI值'] = data_frame.apply(lambda x: x['致命bug']*10+x['严重bug']*3+x['一般bug']*1+x['提示bug']*0.1,axis=1)\n",
    "#更简单优雅的lambda列运算，columns顺序调整好，直接用columns的数字来代替文字。\n",
    "data['DI值'] = data.apply(lambda x: x[0]*10+x[1]*3+x[2]*1+x[3]*0.1,axis=1)\n",
    "\n",
    "data"
   ]
  },
  {
   "cell_type": "markdown",
   "metadata": {},
   "source": [
    "## 列出DI值关注的bug，默认是致命bug和严重bug"
   ]
  },
  {
   "cell_type": "code",
   "execution_count": 33,
   "metadata": {},
   "outputs": [
    {
     "data": {
      "text/html": [
       "<div>\n",
       "<style scoped>\n",
       "    .dataframe tbody tr th:only-of-type {\n",
       "        vertical-align: middle;\n",
       "    }\n",
       "\n",
       "    .dataframe tbody tr th {\n",
       "        vertical-align: top;\n",
       "    }\n",
       "\n",
       "    .dataframe thead th {\n",
       "        text-align: right;\n",
       "    }\n",
       "</style>\n",
       "<table border=\"1\" class=\"dataframe\">\n",
       "  <thead>\n",
       "    <tr style=\"text-align: right;\">\n",
       "      <th></th>\n",
       "      <th></th>\n",
       "      <th></th>\n",
       "      <th></th>\n",
       "      <th></th>\n",
       "      <th></th>\n",
       "      <th></th>\n",
       "      <th>严重致命bug</th>\n",
       "    </tr>\n",
       "    <tr>\n",
       "      <th>优先级</th>\n",
       "      <th>目标版本</th>\n",
       "      <th>状态</th>\n",
       "      <th>#</th>\n",
       "      <th>指派给</th>\n",
       "      <th>处理人</th>\n",
       "      <th>主题</th>\n",
       "      <th></th>\n",
       "    </tr>\n",
       "  </thead>\n",
       "  <tbody>\n",
       "    <tr>\n",
       "      <th>严重bug</th>\n",
       "      <th>安全中心V1.4.3</th>\n",
       "      <th>新建</th>\n",
       "      <th>31461</th>\n",
       "      <th>韦君</th>\n",
       "      <th>未指定</th>\n",
       "      <th>【安全中心-功能帮助】点击功能帮助，查看功能帮助详情失败，提示：Knife4j文档请求异常</th>\n",
       "      <td>1</td>\n",
       "    </tr>\n",
       "  </tbody>\n",
       "</table>\n",
       "</div>"
      ],
      "text/plain": [
       "                                                                                 严重致命bug\n",
       "优先级   目标版本       状态 #     指派给 处理人 主题                                                    \n",
       "严重bug 安全中心V1.4.3 新建 31461 韦君  未指定 【安全中心-功能帮助】点击功能帮助，查看功能帮助详情失败，提示：Knife4j文档请求异常        1"
      ]
     },
     "execution_count": 33,
     "metadata": {},
     "output_type": "execute_result"
    }
   ],
   "source": [
    "#data = data_frame.loc[((data_frame['优先级'] == '致命bug') | (data_frame['优先级'] == '严重bug')|(data_frame['优先级'] == '一般bug')), :]\n",
    "data = data_frame.loc[((data_frame['优先级'] == '致命bug') | (data_frame['优先级'] == '严重bug')), :]\n",
    "\n",
    "data = data.groupby(['优先级','目标版本','状态','#','指派给','处理人','主题'])['#'].agg(严重致命bug=np.count_nonzero)\n",
    "data"
   ]
  },
  {
   "cell_type": "code",
   "execution_count": 34,
   "metadata": {},
   "outputs": [
    {
     "data": {
      "text/html": [
       "<div>\n",
       "<style scoped>\n",
       "    .dataframe tbody tr th:only-of-type {\n",
       "        vertical-align: middle;\n",
       "    }\n",
       "\n",
       "    .dataframe tbody tr th {\n",
       "        vertical-align: top;\n",
       "    }\n",
       "\n",
       "    .dataframe thead th {\n",
       "        text-align: right;\n",
       "    }\n",
       "</style>\n",
       "<table border=\"1\" class=\"dataframe\">\n",
       "  <thead>\n",
       "    <tr style=\"text-align: right;\">\n",
       "      <th></th>\n",
       "      <th>严重致命bug</th>\n",
       "    </tr>\n",
       "  </thead>\n",
       "  <tbody>\n",
       "  </tbody>\n",
       "</table>\n",
       "</div>"
      ],
      "text/plain": [
       "Empty DataFrame\n",
       "Columns: [严重致命bug]\n",
       "Index: []"
      ]
     },
     "execution_count": 34,
     "metadata": {},
     "output_type": "execute_result"
    }
   ],
   "source": [
    "\n",
    "data = data_frame.loc[((data_frame['目标版本'] == '中台桌面V1.2') | (data_frame['目标版本'] == '互联网桌面 V1.0')|(data_frame['目标版本'] == '桌面管理V1.4')), :]\n",
    "\n",
    "data = data.groupby(['目标版本','优先级','状态','#','指派给','处理人','主题'])['#'].agg(严重致命bug=np.count_nonzero)\n",
    "data"
   ]
  },
  {
   "cell_type": "code",
   "execution_count": 35,
   "metadata": {},
   "outputs": [
    {
     "data": {
      "text/html": [
       "<div>\n",
       "<style scoped>\n",
       "    .dataframe tbody tr th:only-of-type {\n",
       "        vertical-align: middle;\n",
       "    }\n",
       "\n",
       "    .dataframe tbody tr th {\n",
       "        vertical-align: top;\n",
       "    }\n",
       "\n",
       "    .dataframe thead th {\n",
       "        text-align: right;\n",
       "    }\n",
       "</style>\n",
       "<table border=\"1\" class=\"dataframe\">\n",
       "  <thead>\n",
       "    <tr style=\"text-align: right;\">\n",
       "      <th></th>\n",
       "      <th>严重致命bug</th>\n",
       "    </tr>\n",
       "  </thead>\n",
       "  <tbody>\n",
       "  </tbody>\n",
       "</table>\n",
       "</div>"
      ],
      "text/plain": [
       "Empty DataFrame\n",
       "Columns: [严重致命bug]\n",
       "Index: []"
      ]
     },
     "execution_count": 35,
     "metadata": {},
     "output_type": "execute_result"
    }
   ],
   "source": [
    "data = data_frame.loc[((data_frame['目标版本'] == '数据中心-v1.3.2') ), :]\n",
    "\n",
    "data = data.groupby(['目标版本','优先级','状态','#','指派给','处理人','主题'])['#'].agg(严重致命bug=np.count_nonzero)\n",
    "data"
   ]
  },
  {
   "cell_type": "code",
   "execution_count": 36,
   "metadata": {},
   "outputs": [
    {
     "data": {
      "text/html": [
       "<div>\n",
       "<style scoped>\n",
       "    .dataframe tbody tr th:only-of-type {\n",
       "        vertical-align: middle;\n",
       "    }\n",
       "\n",
       "    .dataframe tbody tr th {\n",
       "        vertical-align: top;\n",
       "    }\n",
       "\n",
       "    .dataframe thead th {\n",
       "        text-align: right;\n",
       "    }\n",
       "</style>\n",
       "<table border=\"1\" class=\"dataframe\">\n",
       "  <thead>\n",
       "    <tr style=\"text-align: right;\">\n",
       "      <th></th>\n",
       "      <th>严重致命bug</th>\n",
       "    </tr>\n",
       "  </thead>\n",
       "  <tbody>\n",
       "  </tbody>\n",
       "</table>\n",
       "</div>"
      ],
      "text/plain": [
       "Empty DataFrame\n",
       "Columns: [严重致命bug]\n",
       "Index: []"
      ]
     },
     "execution_count": 36,
     "metadata": {},
     "output_type": "execute_result"
    }
   ],
   "source": [
    "data = data_frame.loc[((data_frame['状态'] == '已解决')), :]\n",
    "\n",
    "data = data.groupby(['目标版本','优先级','状态','#','指派给','处理人','主题'])['#'].agg(严重致命bug=np.count_nonzero)\n",
    "data"
   ]
  },
  {
   "cell_type": "code",
   "execution_count": 37,
   "metadata": {
    "scrolled": true
   },
   "outputs": [
    {
     "data": {
      "text/html": [
       "<div>\n",
       "<style scoped>\n",
       "    .dataframe tbody tr th:only-of-type {\n",
       "        vertical-align: middle;\n",
       "    }\n",
       "\n",
       "    .dataframe tbody tr th {\n",
       "        vertical-align: top;\n",
       "    }\n",
       "\n",
       "    .dataframe thead th {\n",
       "        text-align: right;\n",
       "    }\n",
       "</style>\n",
       "<table border=\"1\" class=\"dataframe\">\n",
       "  <thead>\n",
       "    <tr style=\"text-align: right;\">\n",
       "      <th></th>\n",
       "      <th></th>\n",
       "      <th></th>\n",
       "      <th></th>\n",
       "      <th></th>\n",
       "      <th></th>\n",
       "      <th></th>\n",
       "      <th></th>\n",
       "      <th>严重致命bug</th>\n",
       "    </tr>\n",
       "    <tr>\n",
       "      <th>目标版本</th>\n",
       "      <th>优先级</th>\n",
       "      <th>状态</th>\n",
       "      <th>#</th>\n",
       "      <th>指派给</th>\n",
       "      <th>处理人</th>\n",
       "      <th>作者</th>\n",
       "      <th>主题</th>\n",
       "      <th></th>\n",
       "    </tr>\n",
       "  </thead>\n",
       "  <tbody>\n",
       "    <tr>\n",
       "      <th>2.0.0</th>\n",
       "      <th>一般bug</th>\n",
       "      <th>新建</th>\n",
       "      <th>29069</th>\n",
       "      <th>杨柳</th>\n",
       "      <th>杨兵, 滕聪</th>\n",
       "      <th>张小华</th>\n",
       "      <th>【云市场】组件下载注册失败</th>\n",
       "      <td>1</td>\n",
       "    </tr>\n",
       "    <tr>\n",
       "      <th>中台桌面V1.6</th>\n",
       "      <th>一般bug</th>\n",
       "      <th>新建</th>\n",
       "      <th>31429</th>\n",
       "      <th>许济川</th>\n",
       "      <th>未指定</th>\n",
       "      <th>马文龙</th>\n",
       "      <th>【中台桌面】移动端绑定自由体系应用，显示为登录页面</th>\n",
       "      <td>1</td>\n",
       "    </tr>\n",
       "  </tbody>\n",
       "</table>\n",
       "</div>"
      ],
      "text/plain": [
       "                                                                  严重致命bug\n",
       "目标版本     优先级   状态 #     指派给 处理人    作者  主题                                \n",
       "2.0.0    一般bug 新建 29069 杨柳  杨兵, 滕聪 张小华 【云市场】组件下载注册失败                    1\n",
       "中台桌面V1.6 一般bug 新建 31429 许济川 未指定    马文龙 【中台桌面】移动端绑定自由体系应用，显示为登录页面        1"
      ]
     },
     "execution_count": 37,
     "metadata": {},
     "output_type": "execute_result"
    }
   ],
   "source": [
    "data = data_frame.loc[((data_frame['优先级'] == '一般bug')), :]\n",
    "\n",
    "data = data.groupby(['目标版本','优先级','状态','#','指派给','处理人','作者','主题'])['#'].agg(严重致命bug=np.count_nonzero)\n",
    "data"
   ]
  },
  {
   "cell_type": "code",
   "execution_count": null,
   "metadata": {},
   "outputs": [],
   "source": []
  },
  {
   "cell_type": "code",
   "execution_count": 38,
   "metadata": {},
   "outputs": [
    {
     "data": {
      "text/html": [
       "<div>\n",
       "<style scoped>\n",
       "    .dataframe tbody tr th:only-of-type {\n",
       "        vertical-align: middle;\n",
       "    }\n",
       "\n",
       "    .dataframe tbody tr th {\n",
       "        vertical-align: top;\n",
       "    }\n",
       "\n",
       "    .dataframe thead th {\n",
       "        text-align: right;\n",
       "    }\n",
       "</style>\n",
       "<table border=\"1\" class=\"dataframe\">\n",
       "  <thead>\n",
       "    <tr style=\"text-align: right;\">\n",
       "      <th></th>\n",
       "      <th></th>\n",
       "      <th></th>\n",
       "      <th></th>\n",
       "      <th></th>\n",
       "      <th></th>\n",
       "      <th></th>\n",
       "      <th></th>\n",
       "      <th>严重致命bug</th>\n",
       "    </tr>\n",
       "    <tr>\n",
       "      <th>目标版本</th>\n",
       "      <th>优先级</th>\n",
       "      <th>状态</th>\n",
       "      <th>#</th>\n",
       "      <th>指派给</th>\n",
       "      <th>处理人</th>\n",
       "      <th>作者</th>\n",
       "      <th>主题</th>\n",
       "      <th></th>\n",
       "    </tr>\n",
       "  </thead>\n",
       "  <tbody>\n",
       "    <tr>\n",
       "      <th rowspan=\"7\" valign=\"top\">服务中心第二版v1.8.1</th>\n",
       "      <th rowspan=\"7\" valign=\"top\">提示bug</th>\n",
       "      <th rowspan=\"7\" valign=\"top\">新建</th>\n",
       "      <th>31205</th>\n",
       "      <th>翟小童</th>\n",
       "      <th>未指定</th>\n",
       "      <th>马文龙</th>\n",
       "      <th>【龙湖】【服务中心】重复上传同一大于10M服务说明doc文档时，页面无提示</th>\n",
       "      <td>1</td>\n",
       "    </tr>\n",
       "    <tr>\n",
       "      <th>31208</th>\n",
       "      <th>翟小童</th>\n",
       "      <th>未指定</th>\n",
       "      <th>马文龙</th>\n",
       "      <th>【龙湖】【服务中心】服务详情中，“说明链接”字段显示为“说明文档”</th>\n",
       "      <td>1</td>\n",
       "    </tr>\n",
       "    <tr>\n",
       "      <th>31209</th>\n",
       "      <th>翟小童</th>\n",
       "      <th>未指定</th>\n",
       "      <th>马文龙</th>\n",
       "      <th>【龙湖】【服务中心】服务详情中，关联API处，查询条件提示，API名需改为：API标题</th>\n",
       "      <td>1</td>\n",
       "    </tr>\n",
       "    <tr>\n",
       "      <th>31211</th>\n",
       "      <th>翟小童</th>\n",
       "      <th>未指定</th>\n",
       "      <th>马文龙</th>\n",
       "      <th>【龙湖】【服务中心】服务列表，查询结果为空，页面提示，提示不准确</th>\n",
       "      <td>1</td>\n",
       "    </tr>\n",
       "    <tr>\n",
       "      <th>31215</th>\n",
       "      <th>翟小童</th>\n",
       "      <th>未指定</th>\n",
       "      <th>马文龙</th>\n",
       "      <th>【龙湖】【服务中心】新建API页面、api删除，部分api的小写需修改为大写</th>\n",
       "      <td>1</td>\n",
       "    </tr>\n",
       "    <tr>\n",
       "      <th>31218</th>\n",
       "      <th>翟小童</th>\n",
       "      <th>未指定</th>\n",
       "      <th>马文龙</th>\n",
       "      <th>【龙湖】【服务中心】编辑服务，缺少提示【主机域名 +端口号】连通性</th>\n",
       "      <td>1</td>\n",
       "    </tr>\n",
       "    <tr>\n",
       "      <th>31224</th>\n",
       "      <th>翟小童</th>\n",
       "      <th>未指定</th>\n",
       "      <th>马文龙</th>\n",
       "      <th>【龙湖】【服务中心】服务页面，服务配置处，主机host，建议修改为主机域名</th>\n",
       "      <td>1</td>\n",
       "    </tr>\n",
       "    <tr>\n",
       "      <th>未指定</th>\n",
       "      <th>提示bug</th>\n",
       "      <th>延期处理</th>\n",
       "      <th>15012</th>\n",
       "      <th>刘林</th>\n",
       "      <th>罗俊</th>\n",
       "      <th>刘林</th>\n",
       "      <th>【数据中心】FTP连通后，同步数据页面展开文件夹后只勾选文件夹下的单一文件提交，提交后同步的文件结构文件夹没有显示，只有一个文件（已转需求#15297）</th>\n",
       "      <td>1</td>\n",
       "    </tr>\n",
       "  </tbody>\n",
       "</table>\n",
       "</div>"
      ],
      "text/plain": [
       "                                                                                               严重致命bug\n",
       "目标版本          优先级   状态   #     指派给 处理人 作者  主题                                                         \n",
       "服务中心第二版v1.8.1 提示bug 新建   31205 翟小童 未指定 马文龙 【龙湖】【服务中心】重复上传同一大于10M服务说明doc文档时，页面无提示                     1\n",
       "                         31208 翟小童 未指定 马文龙 【龙湖】【服务中心】服务详情中，“说明链接”字段显示为“说明文档”                         1\n",
       "                         31209 翟小童 未指定 马文龙 【龙湖】【服务中心】服务详情中，关联API处，查询条件提示，API名需改为：API标题               1\n",
       "                         31211 翟小童 未指定 马文龙 【龙湖】【服务中心】服务列表，查询结果为空，页面提示，提示不准确                          1\n",
       "                         31215 翟小童 未指定 马文龙 【龙湖】【服务中心】新建API页面、api删除，部分api的小写需修改为大写                    1\n",
       "                         31218 翟小童 未指定 马文龙 【龙湖】【服务中心】编辑服务，缺少提示【主机域名 +端口号】连通性                         1\n",
       "                         31224 翟小童 未指定 马文龙 【龙湖】【服务中心】服务页面，服务配置处，主机host，建议修改为主机域名                     1\n",
       "未指定           提示bug 延期处理 15012 刘林  罗俊  刘林  【数据中心】FTP连通后，同步数据页面展开文件夹后只勾选文件夹下的单一文件提交，提交后同步的文...        1"
      ]
     },
     "execution_count": 38,
     "metadata": {},
     "output_type": "execute_result"
    }
   ],
   "source": [
    "data = data_frame.loc[((data_frame['优先级'] == '提示bug')), :]\n",
    "\n",
    "data = data.groupby(['目标版本','优先级','状态','#','指派给','处理人','作者','主题'])['#'].agg(严重致命bug=np.count_nonzero)\n",
    "data"
   ]
  },
  {
   "cell_type": "code",
   "execution_count": null,
   "metadata": {},
   "outputs": [],
   "source": []
  }
 ],
 "metadata": {
  "kernelspec": {
   "display_name": "Python 3",
   "language": "python",
   "name": "python3"
  },
  "language_info": {
   "codemirror_mode": {
    "name": "ipython",
    "version": 3
   },
   "file_extension": ".py",
   "mimetype": "text/x-python",
   "name": "python",
   "nbconvert_exporter": "python",
   "pygments_lexer": "ipython3",
   "version": "3.7.0"
  }
 },
 "nbformat": 4,
 "nbformat_minor": 4
}
